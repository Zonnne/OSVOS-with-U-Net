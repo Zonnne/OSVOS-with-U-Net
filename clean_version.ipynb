{
  "nbformat": 4,
  "nbformat_minor": 0,
  "metadata": {
    "colab": {
      "name": "Untitled7.ipynb",
      "provenance": [],
      "collapsed_sections": []
    },
    "kernelspec": {
      "name": "python3",
      "display_name": "Python 3"
    }
  },
  "cells": [
    {
      "cell_type": "code",
      "metadata": {
        "id": "wb_lAMRjAx-L",
        "colab_type": "code",
        "colab": {}
      },
      "source": [
        "% cp drive/'My Drive'/Val.zip -d ./\n",
        "! unzip Val.zip"
      ],
      "execution_count": 0,
      "outputs": []
    },
    {
      "cell_type": "code",
      "metadata": {
        "id": "kxSJ1wAvBNBt",
        "colab_type": "code",
        "colab": {}
      },
      "source": [
        "! pip install -U segmentation-models"
      ],
      "execution_count": 0,
      "outputs": []
    },
    {
      "cell_type": "code",
      "metadata": {
        "id": "qnTQC3XeBM-5",
        "colab_type": "code",
        "colab": {}
      },
      "source": [
        "import segmentation_models as sm\n",
        "import keras\n",
        "from keras import optimizers\n",
        "from keras.preprocessing.image import ImageDataGenerator\n",
        "keras.backend.set_image_data_format('channels_last')\n",
        "import os"
      ],
      "execution_count": 0,
      "outputs": []
    },
    {
      "cell_type": "code",
      "metadata": {
        "id": "Bo52RP3wBM78",
        "colab_type": "code",
        "colab": {}
      },
      "source": [
        "!nvidia-smi"
      ],
      "execution_count": 0,
      "outputs": []
    },
    {
      "cell_type": "code",
      "metadata": {
        "id": "E1uKknmnBM5X",
        "colab_type": "code",
        "colab": {}
      },
      "source": [
        "############ online learning ##########################\n",
        "############ run the block at bottom first##########\n",
        "model = sm.Unet('resnet34',classes=1, activation='sigmoid',input_shape=(None, None, 3))\n",
        "# for layer in model.layers:\n",
        "#   layer.trainable=True\n",
        "#   layerName=str(layer.name)\n",
        "#   if layerName.startswith(\"decoder\") or layerName.startswith(\"Final_\"):\n",
        "#     layer.trainable=True\n",
        "#   else: layer.trainable=False       #freeze/unfreeze the encoder"
      ],
      "execution_count": 0,
      "outputs": []
    },
    {
      "cell_type": "code",
      "metadata": {
        "id": "plY8zlN8BM3K",
        "colab_type": "code",
        "colab": {}
      },
      "source": [
        "folder = 'kite-surf'\n",
        "sgd = optimizers.SGD(lr=0.0001, decay=1e-6, momentum=0.9, nesterov=True)\n",
        "model.compile(optimizer=sgd,loss=sm.losses.bce_jaccard_loss,\n",
        "  metrics=[sm.metrics.iou_score],)\n",
        "load_shot(folder,'00')\n",
        "train_generator, val_generator = val_loader(folder)\n",
        "model.load_weights('drive/My Drive/65iou.h5') #load parent model\n",
        "history = model.fit_generator(\n",
        "    train_generator,\n",
        "    steps_per_epoch=1000,\n",
        "    epochs=20,verbose = 1,\n",
        "    validation_data=val_generator, validation_steps=dict[folder],\n",
        "    initial_epoch=0)\n",
        "model.save(folder+'.h5')\n",
        "##########################end#######################"
      ],
      "execution_count": 0,
      "outputs": []
    },
    {
      "cell_type": "code",
      "metadata": {
        "id": "kgAez26KBM04",
        "colab_type": "code",
        "colab": {}
      },
      "source": [
        "##########################parent model training#################\n",
        "% cp drive/'My Drive'/DAVIS.zip -d ./\n",
        "! unzip DAVIS.zip"
      ],
      "execution_count": 0,
      "outputs": []
    },
    {
      "cell_type": "code",
      "metadata": {
        "id": "bn_ix-MzBMyz",
        "colab_type": "code",
        "colab": {}
      },
      "source": [
        "image_datagen = ImageDataGenerator( rotation_range=90,\n",
        "                   width_shift_range=0.1,\n",
        "                   height_shift_range=0.1,\n",
        "                   zoom_range=0.2, horizontal_flip=True,\n",
        "                   vertical_flip = True, rescale= 1./255)\n",
        "mask_datagen = ImageDataGenerator( rotation_range=90,\n",
        "                   width_shift_range=0.1,\n",
        "                   height_shift_range=0.1,\n",
        "                   zoom_range=0.2, horizontal_flip=True,\n",
        "                   vertical_flip = True, rescale= 1./255)\n",
        "image_datagen1 = ImageDataGenerator(featurewise_center=False,\n",
        "                                   featurewise_std_normalization=False,\n",
        "                                   rescale= 1./255)\n",
        "mask_datagen1 = ImageDataGenerator(rescale= 1./255)\n",
        "seed = 1\n",
        "image_generator = image_datagen.flow_from_directory(\n",
        "    'DAVIS/JPEGImages/480p/atrain',target_size=(480,832),\n",
        "    class_mode=None,batch_size=8,\n",
        "    seed=seed)\n",
        "mask_generator = mask_datagen.flow_from_directory(\n",
        "    'DAVIS/Annotations/480p/atrain',target_size=(480,832),\n",
        "    class_mode=None,batch_size=8,\n",
        "    color_mode = 'grayscale',\n",
        "    seed=seed)\n",
        "image_generator1 = image_datagen1.flow_from_directory(\n",
        "    'DAVIS/JPEGImages/480p/aval',target_size=(480,832),\n",
        "    class_mode=None,batch_size=8,\n",
        "    seed=1)\n",
        "mask_generator1 = mask_datagen1.flow_from_directory(\n",
        "    'DAVIS/Annotations/480p/aval',target_size=(480,832),\n",
        "    class_mode=None,batch_size=8,\n",
        "    color_mode = 'grayscale',\n",
        "    seed=seed)\n",
        "#merge\n",
        "def combine_generator(gen1, gen2):\n",
        "    while True:\n",
        "        yield(gen1.next(), gen2.next())   \n",
        "train_generator = combine_generator(image_generator, mask_generator)\n",
        "val_generator = combine_generator(image_generator1, mask_generator1)"
      ],
      "execution_count": 0,
      "outputs": []
    },
    {
      "cell_type": "code",
      "metadata": {
        "id": "8ktxW3csBMwn",
        "colab_type": "code",
        "colab": {}
      },
      "source": [
        "sgd = optimizers.SGD(lr=0.001, decay=1e-6, momentum=0.9, nesterov=True)\n",
        "model.compile(optimizer=sgd,loss=sm.losses.bce_jaccard_loss,\n",
        "    metrics=[sm.metrics.iou_score],)\n",
        "model.fit_generator(\n",
        "    train_generator,\n",
        "    steps_per_epoch=1000,\n",
        "    epochs=,\n",
        "    validation_data=val_generator,validation_steps=172,initial_epoch = 0)\n",
        "model.save('parent.h5')\n",
        "##################### end #####################"
      ],
      "execution_count": 0,
      "outputs": []
    },
    {
      "cell_type": "code",
      "metadata": {
        "id": "d2HzcIKpBMpp",
        "colab_type": "code",
        "colab": {}
      },
      "source": [
        "from keras.preprocessing import image\n",
        "import numpy as np\n",
        "import cv2\n",
        "import os\n",
        "from matplotlib import pyplot as plt\n",
        "def img2np(src):\n",
        "  img = image.load_img(src, target_size=(480, 832))\n",
        "  x = image.img_to_array(img)\n",
        "  x = np.expand_dims(x, axis=0)\n",
        "  x = x*(1./255)\n",
        "  return x\n",
        "def let_me_see(dir,num):\n",
        "  src = dir+'/'+num\n",
        "  x=img2np(src)\n",
        "  y=model.predict(x)\n",
        "  y=y*255\n",
        "  plt.imshow(y[0].squeeze(2))\n",
        "  save_name ='a/'+num   #directory configure\n",
        "  plt.savefig(save_name)\n",
        "  plt.show()\n",
        "\n",
        "\n",
        "###### example###########\n",
        "outer_path = 'Val/data_Pic/kite-surf/kite-surf'\n",
        "folderlist = os.listdir(outer_path)          #列举文件夹\n",
        "for folder in folderlist:\n",
        "  let_me_see(outer_path,folder)\n"
      ],
      "execution_count": 0,
      "outputs": []
    },
    {
      "cell_type": "code",
      "metadata": {
        "id": "DeO-G3HPBMYc",
        "colab_type": "code",
        "colab": {}
      },
      "source": [
        "####### functions for online learning ###############\n",
        "import os\n",
        "def load_shot(folder,idx):\n",
        "  outer_path = 'Val/data_Mask'\n",
        "  folderlist = os.listdir(outer_path)          #列举文件夹\n",
        "  index='000'+idx+'.png'\n",
        "  src = os.path.join(outer_path, folder, folder, index)\n",
        "  dst = os.path.join('Val/data_One_mask',folder,folder,'shot.png')\n",
        "  % cp {src} {dst}\n",
        "  outer_path = 'Val/data_Pic'\n",
        "  folderlist = os.listdir(outer_path)          #列举文件夹\n",
        "  index='000'+idx+'.jpg'\n",
        "  src = os.path.join(outer_path, folder, folder, index)\n",
        "  dst = os.path.join('Val/data_One_shot',folder,folder,'shot.jpg')\n",
        "  % cp {src} {dst}\n",
        "dict = {'blackswan': 50,\n",
        " 'bmx-trees': 80,\n",
        " 'breakdance': 84,\n",
        " 'camel': 90,\n",
        " 'car-roundabout': 75,\n",
        " 'car-shadow': 40,\n",
        " 'cows': 104,\n",
        " 'dance-twirl': 90,\n",
        " 'dog': 60,\n",
        " 'drift-chicane': 52,\n",
        " 'drift-straight': 50,\n",
        " 'goat': 90,\n",
        " 'horsejump-high': 50,\n",
        " 'kite-surf': 50,\n",
        " 'libby': 49,\n",
        " 'motocross-jump': 40,\n",
        " 'paragliding-launch': 80,\n",
        " 'parkour': 100,\n",
        " 'scooter-black': 43,\n",
        " 'soapbox': 99}\n",
        "def combine_generator(gen1, gen2):\n",
        "      while True:\n",
        "          yield(gen1.next(), gen2.next()) \n",
        "def val_loader(folder):\n",
        "  image_datagen = ImageDataGenerator(\n",
        "                                   rescale= 1./255)\n",
        "  mask_datagen = ImageDataGenerator(rescale= 1./255)\n",
        "  image_datagen1 = ImageDataGenerator( rotation_range=90,\n",
        "                   width_shift_range=0.1,\n",
        "                   height_shift_range=0.1,\n",
        "                   zoom_range=0.2, horizontal_flip=True,\n",
        "                   vertical_flip = True, rescale= 1./255)\n",
        "  mask_datagen1 = ImageDataGenerator( rotation_range=90,\n",
        "                   width_shift_range=0.1,\n",
        "                   height_shift_range=0.1,\n",
        "                   zoom_range=0.2, horizontal_flip=True,\n",
        "                   vertical_flip = True, rescale= 1./255)\n",
        "  seed = 1\n",
        "#path\n",
        "  one_shot = 'Val/data_One_shot/'+folder\n",
        "  one_mask = 'Val/data_One_mask/'+folder\n",
        "  val_pic = 'Val/data_Pic/'+folder\n",
        "  val_mask = 'Val/data_Mask/'+folder\n",
        "  image_generator = image_datagen1.flow_from_directory(\n",
        "      one_shot,target_size=(480,832),\n",
        "      class_mode=None,batch_size=1,\n",
        "      seed=1)\n",
        "  mask_generator = mask_datagen1.flow_from_directory(\n",
        "      one_mask,target_size=(480,832),\n",
        "      class_mode=None,batch_size=1,\n",
        "      color_mode = 'grayscale',\n",
        "      seed=seed)\n",
        "  image_generator1 = image_datagen.flow_from_directory(\n",
        "      val_pic,target_size=(480,832),\n",
        "      class_mode=None,batch_size=1,\n",
        "      seed=1)\n",
        "  mask_generator1 = mask_datagen.flow_from_directory(\n",
        "      val_mask,target_size=(480,832),\n",
        "      class_mode=None,batch_size=1,\n",
        "      color_mode = 'grayscale',\n",
        "      seed=seed)\n",
        "#merge two generators \n",
        "  train_generator = combine_generator(image_generator, mask_generator)\n",
        "  val_generator = combine_generator(image_generator1, mask_generator1)\n",
        "  return train_generator, val_generator"
      ],
      "execution_count": 0,
      "outputs": []
    }
  ]
}